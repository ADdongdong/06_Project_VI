{
 "cells": [
  {
   "cell_type": "code",
   "execution_count": 2,
   "metadata": {},
   "outputs": [],
   "source": [
    "from sklearn.cluster import KMeans, DBSCAN\n",
    "from sklearn.datasets import make_blobs\n",
    "import numpy as np\n",
    "import pandas as pd\n",
    "\n",
    "\n",
    "# 读取数据\n",
    "def load_data_set(file_name):\n",
    "    data_set = []\n",
    "    with open(file_name, 'r') as f:\n",
    "        for line in f.readlines():\n",
    "            x, y = line.strip().split()\n",
    "            data_set.append([float(x), float(y)])\n",
    "    return np.array(data_set)\n",
    "\n",
    "# k-means算法\n",
    "def k_means(data_set, k):\n",
    "    kmeans = KMeans(n_clusters=k)\n",
    "    kmeans.fit(data_set)\n",
    "    return kmeans.labels_, kmeans.cluster_centers_\n",
    "\n",
    "# DBScan算法\n",
    "def dbscan(data_set, eps, min_samples):\n",
    "    dbscan = DBSCAN(eps=eps, min_samples=min_samples)\n",
    "    dbscan.fit(data_set)\n",
    "    return dbscan.labels_\n",
    "\n",
    "import matplotlib.pyplot as plt\n",
    "\n",
    "#读取数据\n",
    "def load_data():\n",
    "    data = np.array(pd.read_csv(r'testSet.txt', sep='\\t', header=None, usecols=[0, 1]))"
   ]
  }
 ],
 "metadata": {
  "kernelspec": {
   "display_name": "pytorch",
   "language": "python",
   "name": "python3"
  },
  "language_info": {
   "codemirror_mode": {
    "name": "ipython",
    "version": 3
   },
   "file_extension": ".py",
   "mimetype": "text/x-python",
   "name": "python",
   "nbconvert_exporter": "python",
   "pygments_lexer": "ipython3",
   "version": "3.9.16"
  },
  "orig_nbformat": 4,
  "vscode": {
   "interpreter": {
    "hash": "2af601dfafe7974b0cebf1f2b52985470342a39253c20dfe2870dd208a17d3da"
   }
  }
 },
 "nbformat": 4,
 "nbformat_minor": 2
}
