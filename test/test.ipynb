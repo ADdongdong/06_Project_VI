{
 "cells": [
  {
   "cell_type": "code",
   "execution_count": 1,
   "metadata": {},
   "outputs": [],
   "source": [
    "import matplotlib as mpl\n",
    "import matplotlib.pyplot as plt"
   ]
  },
  {
   "cell_type": "code",
   "execution_count": 2,
   "metadata": {},
   "outputs": [
    {
     "data": {
      "image/png": "[encoded data removed]",
      "text/plain": [
       "<Figure size 432x288 with 1 Axes>"
      ]
     },
     "metadata": {
      "needs_background": "light"
     },
     "output_type": "display_data"
    }
   ],
   "source": [
    "plt.plot(range(0,20))\n",
    "plt.show()"
   ]
  },
  {
   "cell_type": "code",
   "execution_count": 3,
   "metadata": {},
   "outputs": [],
   "source": [
    "import numpy as np\n",
    "import jax.numpy as jnp\n",
    "import jax\n",
    "from sklearn import datasets\n",
    "from jax import grad\n",
    "from tqdm import tqdm\n"
   ]
  },
  {
   "cell_type": "code",
   "execution_count": 4,
   "metadata": {},
   "outputs": [],
   "source": [
    "# NLP 感知机\n",
    "# MLP 多层感知机\n",
    "def mlp(X, W0, b0, W1, b1):\n",
    "    z = perceptron(X, W0, b0)\n",
    "    z = jax.nn.tanh(z)#tanh创建一个非线性层，非线性变换\n",
    "    y = perceptron(z, W1, b1)\n",
    "    return y"
   ]
  },
  {
   "cell_type": "code",
   "execution_count": 5,
   "metadata": {},
   "outputs": [],
   "source": [
    "# 感知机 perceptron\n",
    "def perceptron(X, W, b):\n",
    "    # X:input, [samples, input_dim]\n",
    "    # W:weight, [inpyt_dim, output_dim]\n",
    "    # b:bias, [1, output_dim]\n",
    "    y = X @ W + b #@ 是矩阵乘法，*是矩阵按元素相乘\n",
    "    return y"
   ]
  },
  {
   "cell_type": "code",
   "execution_count": 6,
   "metadata": {},
   "outputs": [
    {
     "name": "stderr",
     "output_type": "stream",
     "text": [
      "WARNING:jax._src.lib.xla_bridge:No GPU/TPU found, falling back to CPU. (Set TF_CPP_MIN_LOG_LEVEL=0 and rerun for more info.)\n"
     ]
    },
    {
     "name": "stdout",
     "output_type": "stream",
     "text": [
      "(150, 4)\n",
      "(150,)\n",
      "[[0. 0. 1.]\n",
      " [0. 0. 1.]\n",
      " [0. 0. 1.]]\n",
      "(150, 3)\n"
     ]
    }
   ],
   "source": [
    "iris = datasets.load_iris()\n",
    "X = iris.data\n",
    "y = iris.target\n",
    "print(X.shape)\n",
    "print(y.shape)\n",
    "Y = jax.nn.one_hot(y, 3)\n",
    "print(Y[-3:])\n",
    "#print(Y)\n",
    "\n",
    "print(Y.shape)\n",
    "\n",
    "input_dim = 4 #输入维度为4\n",
    "hidden_dim = 100 # 隐藏层维度\n",
    "output_dim = 3 #输出维度"
   ]
  },
  {
   "cell_type": "code",
   "execution_count": 7,
   "metadata": {},
   "outputs": [],
   "source": [
    "W0 = np.random.randn(input_dim, hidden_dim)\n",
    "b0 = np.random.randn(1, hidden_dim)\n",
    "W1 = np.random.randn(hidden_dim, output_dim)\n",
    "b1 = np.random.randn(1, output_dim)\n",
    "\n",
    "weights = [\n",
    "    W0, b0, W1, b1\n",
    "]\n",
    "# priceptron\n",
    "def loss_func(weights, X , Y):\n",
    "    y_hat = mlp(X, *weights)\n",
    "    #使用交叉熵来当做loss\n",
    "    loss = -jnp.mean(Y*jax.nn.log_softmax(y_hat))\n",
    "    return loss"
   ]
  },
  {
   "cell_type": "code",
   "execution_count": 8,
   "metadata": {},
   "outputs": [
    {
     "name": "stderr",
     "output_type": "stream",
     "text": [
      "0.024622: 100%|██████████| 1000/1000 [00:08<00:00, 118.10it/s]\n"
     ]
    },
    {
     "name": "stdout",
     "output_type": "stream",
     "text": [
      "[[ 7.93128490e+00  5.02259851e-01 -1.34043813e-01]\n",
      " [ 7.59212923e+00  1.62216270e+00 -1.16717923e+00]\n",
      " [ 7.65881586e+00  4.91709352e-01 -1.05072975e-01]\n",
      " [ 6.90008211e+00  7.65052676e-01 -1.12914920e-01]\n",
      " [ 7.66773748e+00  1.66182518e-01  1.79250360e-01]\n",
      " [ 7.67223597e+00  6.10242009e-01  3.54748845e-01]\n",
      " [ 7.17316294e+00  7.96638727e-02  5.65447688e-01]\n",
      " [ 7.56586075e+00  6.43895268e-01 -1.44684553e-01]\n",
      " [ 6.81572104e+00  8.90639901e-01 -2.76653409e-01]\n",
      " [ 7.16877842e+00  1.28040874e+00 -8.84086251e-01]\n",
      " [ 8.05269337e+00  5.89670539e-01 -1.94506884e-01]\n",
      " [ 7.03573132e+00  4.33793545e-01  1.94396973e-01]\n",
      " [ 7.38154507e+00  1.33377612e+00 -1.02972043e+00]\n",
      " [ 7.38991213e+00  1.48575068e-01  1.82063580e-02]\n",
      " [ 8.91502380e+00  5.48398614e-01 -3.26255798e-01]\n",
      " [ 7.74175835e+00  1.95358157e-01  4.89147544e-01]\n",
      " [ 8.11776543e+00  3.55668545e-01  3.83339167e-01]\n",
      " [ 7.96797037e+00  5.94301820e-01  5.78868389e-03]\n",
      " [ 7.95405388e+00  1.08186448e+00 -2.68435001e-01]\n",
      " [ 7.53748560e+00  1.50043726e-01  4.24828053e-01]\n",
      " [ 7.26982975e+00  1.56816351e+00 -8.37810636e-01]\n",
      " [ 7.67437792e+00  3.91252756e-01  4.67499971e-01]\n",
      " [ 6.84340382e+00 -3.93617630e-01  6.58535838e-01]\n",
      " [ 7.21963406e+00  1.52360904e+00 -1.27264857e-01]\n",
      " [ 6.06377029e+00  7.96969533e-01  2.92823195e-01]\n",
      " [ 6.67317581e+00  2.08721113e+00 -1.40416873e+00]\n",
      " [ 7.43712807e+00  9.14529204e-01  1.38900518e-01]\n",
      " [ 7.83867931e+00  7.26076007e-01 -2.70441890e-01]\n",
      " [ 8.15375042e+00  9.21511769e-01 -5.47175050e-01]\n",
      " [ 6.76543093e+00  7.75588870e-01 -3.28164101e-02]\n",
      " [ 6.71723604e+00  1.27071035e+00 -5.16141295e-01]\n",
      " [ 8.23268223e+00  1.52153671e+00 -6.36715293e-01]\n",
      " [ 7.35818148e+00 -3.43494534e-01  2.89969444e-01]\n",
      " [ 7.73910618e+00 -8.55052471e-02  2.74657965e-01]\n",
      " [ 7.25582695e+00  1.34931028e+00 -7.72212625e-01]\n",
      " [ 8.54162502e+00  1.03493106e+00 -7.73276925e-01]\n",
      " [ 8.92819977e+00  1.20167553e+00 -9.34927583e-01]\n",
      " [ 7.47769022e+00 -6.51531219e-02  1.82921052e-01]\n",
      " [ 7.18424225e+00  4.87048030e-01 -3.60023975e-03]\n",
      " [ 7.70184088e+00  8.10411334e-01 -3.20622802e-01]\n",
      " [ 7.95740414e+00  3.89686704e-01  1.53312087e-01]\n",
      " [ 6.46974945e+00  3.72064447e+00 -3.22183275e+00]\n",
      " [ 7.06282043e+00  2.18123198e-02  4.16614652e-01]\n",
      " [ 7.64807940e+00  7.73393512e-01  6.58988595e-01]\n",
      " [ 6.98805141e+00  6.02361798e-01  5.53114176e-01]\n",
      " [ 7.54920101e+00  1.44083440e+00 -7.69696355e-01]\n",
      " [ 7.39359570e+00  9.68102217e-02  3.06823850e-01]\n",
      " [ 7.23540831e+00  3.98573995e-01  1.00279331e-01]\n",
      " [ 7.90473509e+00  4.45747733e-01 -5.25406599e-02]\n",
      " [ 7.86267424e+00  8.26929212e-01 -4.13394332e-01]\n",
      " [-4.66097641e+00  4.16872978e+00 -9.51526284e-01]\n",
      " [-4.25514698e+00  3.89713907e+00 -3.92910123e-01]\n",
      " [-5.00887918e+00  3.67924547e+00 -1.10417128e-01]\n",
      " [-4.23966646e+00  3.49932098e+00  2.29169369e-01]\n",
      " [-4.76058388e+00  3.66103554e+00  4.99260426e-03]\n",
      " [-3.94870639e+00  2.84827137e+00  8.49065781e-01]\n",
      " [-3.57223392e+00  3.33269930e+00  3.69298935e-01]\n",
      " [-3.67958188e+00  4.18991137e+00 -1.14425123e+00]\n",
      " [-4.90991926e+00  3.94716835e+00 -6.74890637e-01]\n",
      " [-2.82485652e+00  2.98392582e+00  9.04684126e-01]\n",
      " [-4.16576338e+00  4.11040974e+00 -1.16264904e+00]\n",
      " [-3.66413903e+00  3.61049461e+00  1.07326508e-02]\n",
      " [-4.04988432e+00  4.52078915e+00 -2.33842230e+00]\n",
      " [-4.31863308e+00  3.03088045e+00  7.83764422e-01]\n",
      " [-3.06970096e+00  4.22700548e+00 -1.17306006e+00]\n",
      " [-4.31725407e+00  4.30823278e+00 -1.15274084e+00]\n",
      " [-2.26334500e+00  2.43551970e+00  1.61007392e+00]\n",
      " [-4.67726612e+00  3.99634695e+00 -9.87640977e-01]\n",
      " [-4.11647272e+00  3.36646223e+00  2.70506859e-01]\n",
      " [-4.52053881e+00  4.12198448e+00 -9.36917186e-01]\n",
      " [-8.10582221e-01  1.78167498e+00  2.76259518e+00]\n",
      " [-4.10308695e+00  4.32196236e+00 -1.23009193e+00]\n",
      " [-4.20721292e+00  2.69430971e+00  1.67506540e+00]\n",
      " [-4.88173485e+00  2.99177170e+00  2.64777303e-01]\n",
      " [-4.49992371e+00  4.23838711e+00 -1.04795945e+00]\n",
      " [-4.46061134e+00  4.20218277e+00 -9.79708314e-01]\n",
      " [-5.02499199e+00  3.74741364e+00 -3.94186854e-01]\n",
      " [-4.28962374e+00  2.99516344e+00  1.29019642e+00]\n",
      " [-3.94177222e+00  3.20612764e+00  7.96852827e-01]\n",
      " [-3.27843165e+00  4.81451273e+00 -2.29839993e+00]\n",
      " [-4.40971804e+00  4.15599155e+00 -1.02174962e+00]\n",
      " [-4.24199629e+00  4.38320208e+00 -1.52650273e+00]\n",
      " [-4.22228575e+00  4.27535057e+00 -1.09700668e+00]\n",
      " [-2.22576690e+00  1.42355645e+00  3.39456391e+00]\n",
      " [-1.37985849e+00  1.97044456e+00  2.04998851e+00]\n",
      " [-2.57803774e+00  3.22142220e+00  2.69267201e-01]\n",
      " [-4.76879644e+00  3.82349920e+00 -2.67953992e-01]\n",
      " [-4.48072147e+00  3.97723484e+00 -1.05383766e+00]\n",
      " [-3.72788596e+00  3.72088909e+00 -3.19685698e-01]\n",
      " [-4.22600079e+00  3.55407810e+00  1.81295037e-01]\n",
      " [-4.11670446e+00  2.73926449e+00  8.95836413e-01]\n",
      " [-4.32827282e+00  3.32955217e+00  3.42859387e-01]\n",
      " [-4.48272657e+00  4.11864138e+00 -8.55268359e-01]\n",
      " [-3.73079753e+00  4.32680273e+00 -1.44429624e+00]\n",
      " [-4.20375013e+00  3.41145897e+00  3.45157504e-01]\n",
      " [-4.15151310e+00  3.72060919e+00 -4.91738439e-01]\n",
      " [-4.12024498e+00  3.64880657e+00 -1.18787766e-01]\n",
      " [-4.59243202e+00  4.06324530e+00 -6.91884398e-01]\n",
      " [-2.23637486e+00  4.40283442e+00 -1.96628082e+00]\n",
      " [-4.23695517e+00  3.79360723e+00 -2.41471052e-01]\n",
      " [ 9.01747346e-01 -1.45126867e+00  5.22318983e+00]\n",
      " [-8.56553853e-01  7.29611039e-01  4.57062626e+00]\n",
      " [-2.01270080e+00  1.06259978e+00  4.56545019e+00]\n",
      " [-1.37798023e+00  4.71292257e-01  4.09803629e+00]\n",
      " [-7.55175889e-01  3.32045555e-02  5.05959988e+00]\n",
      " [-1.95942807e+00  1.74989700e-02  4.92864227e+00]\n",
      " [-3.52050364e-02  5.93872428e-01  4.19480515e+00]\n",
      " [-2.28625464e+00  1.51863098e-01  4.21659565e+00]\n",
      " [-2.17446947e+00  8.05801511e-01  4.40875721e+00]\n",
      " [-1.47395790e-01  1.50158167e-01  4.84750414e+00]\n",
      " [-1.46800613e+00  1.75341451e+00  3.26260018e+00]\n",
      " [-1.97367001e+00  1.37277853e+00  4.26605368e+00]\n",
      " [-1.72451305e+00  1.30579031e+00  4.34358215e+00]\n",
      " [-6.66936934e-01  4.60548520e-01  5.17755032e+00]\n",
      " [ 6.32724404e-01 -4.98492897e-01  5.70342827e+00]\n",
      " [ 1.69986501e-01  4.47202206e-01  4.82470226e+00]\n",
      " [-1.92754030e+00  1.16365278e+00  3.69504404e+00]\n",
      " [-9.56108391e-01 -2.33869195e-01  3.93676472e+00]\n",
      " [-1.85923338e+00 -1.09983444e-01  5.40151834e+00]\n",
      " [-2.90404010e+00  1.86794198e+00  3.03738785e+00]\n",
      " [-8.79901350e-01  7.13381648e-01  4.85899925e+00]\n",
      " [ 2.93411314e-02  4.70291138e-01  4.69678259e+00]\n",
      " [-2.04636478e+00 -8.15103054e-02  4.82403612e+00]\n",
      " [-2.74939585e+00  2.09047985e+00  3.06183100e+00]\n",
      " [-8.99946511e-01  7.88150191e-01  4.15512514e+00]\n",
      " [-2.69041204e+00  9.75865722e-01  3.36728001e+00]\n",
      " [-2.53160262e+00  2.11487961e+00  2.90104771e+00]\n",
      " [-1.75617242e+00  1.88407767e+00  3.06335020e+00]\n",
      " [-1.16328359e+00  4.75851536e-01  5.03892565e+00]\n",
      " [-4.20266819e+00  1.69363701e+00  2.20021081e+00]\n",
      " [-2.85722494e+00  1.22112381e+00  3.96175861e+00]\n",
      " [-2.78340101e+00  1.24651015e+00  2.61433125e+00]\n",
      " [-9.09239352e-01  2.70616651e-01  5.33703518e+00]\n",
      " [-3.66628718e+00  2.12409306e+00  2.14230847e+00]\n",
      " [-2.04126191e+00  1.31098032e-02  3.30627871e+00]\n",
      " [-2.37487698e+00  1.42097509e+00  4.55221987e+00]\n",
      " [ 8.70349050e-01 -3.22673321e-01  4.81403112e+00]\n",
      " [-1.48182130e+00  9.64932084e-01  3.59451532e+00]\n",
      " [-1.55036855e+00  1.88452637e+00  3.02039981e+00]\n",
      " [-1.98661304e+00  1.62410986e+00  3.79458761e+00]\n",
      " [-3.33432257e-01  2.24109650e-01  5.38245010e+00]\n",
      " [-9.68424261e-01  1.08789456e+00  3.96386957e+00]\n",
      " [-8.56553853e-01  7.29611039e-01  4.57062626e+00]\n",
      " [-7.04886496e-01  2.07162619e-01  5.01447248e+00]\n",
      " [ 2.36108631e-01 -9.30231810e-02  5.33496380e+00]\n",
      " [-6.09700263e-01  7.72744298e-01  4.76397943e+00]\n",
      " [-2.10735345e+00  1.63965714e+00  4.00098038e+00]\n",
      " [-1.63969636e+00  1.52461874e+00  3.87721491e+00]\n",
      " [ 8.75046968e-01  8.29334259e-02  4.48830843e+00]\n",
      " [-8.39869559e-01  1.08994210e+00  3.65150881e+00]]\n",
      "[0 0 0 0 0 0 0 0 0 0 0 0 0 0 0 0 0 0 0 0 0 0 0 0 0 0 0 0 0 0 0 0 0 0 0 0 0\n",
      " 0 0 0 0 0 0 0 0 0 0 0 0 0 1 1 1 1 1 1 1 1 1 1 1 1 1 1 1 1 1 1 1 1 2 1 1 1\n",
      " 1 1 1 1 1 1 1 1 1 2 2 1 1 1 1 1 1 1 1 1 1 1 1 1 1 1 2 2 2 2 2 2 2 2 2 2 2\n",
      " 2 2 2 2 2 2 2 2 2 2 2 2 2 2 2 2 2 2 2 2 2 2 2 2 2 2 2 2 2 2 2 2 2 2 2 2 2\n",
      " 2 2]\n",
      "0.98\n"
     ]
    }
   ],
   "source": [
    "#使用grad对loss自动求梯度\n",
    "grad_func = grad(loss_func)\n",
    "\n",
    "lerning_rate = 0.01\n",
    "pbar = tqdm(range(1000))\n",
    "for i in pbar:\n",
    "    loss = loss_func(weights, X, Y)\n",
    "    grads = grad_func(weights, X, Y)\n",
    "    for j in range(len(weights)):\n",
    "        weights[j] = weights[j] - lerning_rate *grads[j]\n",
    "    pbar.set_description(f'{loss:4f}')\n",
    "\n",
    "y_hat = mlp(X, *weights)\n",
    "print(y_hat)\n",
    "preds = y_hat.argmax(-1)#argmx返回数组中最大值的索引\n",
    "#其中，-1表示沿着数组的最后一个轴进行操作,就是找到每一子数组中的最大值的下标\n",
    "\n",
    "print(preds)\n",
    "from sklearn.metrics import accuracy_score\n",
    "print(accuracy_score(y, preds))\n"
   ]
  }
 ],
 "metadata": {
  "kernelspec": {
   "display_name": "numpyro",
   "language": "python",
   "name": "python3"
  },
  "language_info": {
   "codemirror_mode": {
    "name": "ipython",
    "version": 3
   },
   "file_extension": ".py",
   "mimetype": "text/x-python",
   "name": "python",
   "nbconvert_exporter": "python",
   "pygments_lexer": "ipython3",
   "version": "3.9.16"
  },
  "orig_nbformat": 4,
  "vscode": {
   "interpreter": {
    "hash": "c76da3b56f7b51de8598cd3a1b1952e7a7c2b08e80c4d8d0dcb567dfaa788a0f"
   }
  }
 },
 "nbformat": 4,
 "nbformat_minor": 2
}
