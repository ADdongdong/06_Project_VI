{
 "cells": [
  {
   "cell_type": "code",
   "execution_count": 1,
   "metadata": {},
   "outputs": [
    {
     "name": "stderr",
     "output_type": "stream",
     "text": [
      "WARNING:jax._src.lib.xla_bridge:No GPU/TPU found, falling back to CPU. (Set TF_CPP_MIN_LOG_LEVEL=0 and rerun for more info.)\n",
      "100%|██████████| 500/500 [00:02<00:00, 220.95it/s]\n"
     ]
    },
    {
     "name": "stdout",
     "output_type": "stream",
     "text": [
      "[0.92838067 2.0078518  2.8804803 ]\n"
     ]
    }
   ],
   "source": [
    "import jax\n",
    "from jax import random\n",
    "import jax.numpy as jnp\n",
    "import numpyro\n",
    "import numpyro.distributions as dist\n",
    "from numpyro.infer.hmc import hmc\n",
    "from numpyro.infer.util import initialize_model\n",
    "from numpyro.util import fori_collect\n",
    "\n",
    "true_coefs = jnp.array([1., 2., 3.])\n",
    "data = random.normal(random.PRNGKey(2), (2000, 3))\n",
    "labels = dist.Bernoulli(logits=(true_coefs * data).sum(-1)).sample(random.PRNGKey(3))\n",
    "\n",
    "def model(data, labels):\n",
    "     coefs = numpyro.sample('coefs', dist.Normal(jnp.zeros(3), jnp.ones(3)))\n",
    "     intercept = numpyro.sample('intercept', dist.Normal(0., 10.))\n",
    "     return numpyro.sample('y', dist.Bernoulli(logits=(coefs * data + intercept).sum(-1)), obs=labels)\n",
    "\n",
    "model_info = initialize_model(random.PRNGKey(0), model, model_args=(data, labels,))\n",
    "init_kernel, sample_kernel = hmc(model_info.potential_fn, algo='NUTS')\n",
    "hmc_state = init_kernel(model_info.param_info,\n",
    "                         trajectory_length=10,\n",
    "                         num_warmup=300)\n",
    "samples = fori_collect(0, 500, sample_kernel, hmc_state,\n",
    "                        transform=lambda state: model_info.postprocess_fn(state.z))\n",
    "print(jnp.mean(samples['coefs'], axis=0))  # doctest: +SKIP"
   ]
  }
 ],
 "metadata": {
  "kernelspec": {
   "display_name": "numpyro",
   "language": "python",
   "name": "python3"
  },
  "language_info": {
   "codemirror_mode": {
    "name": "ipython",
    "version": 3
   },
   "file_extension": ".py",
   "mimetype": "text/x-python",
   "name": "python",
   "nbconvert_exporter": "python",
   "pygments_lexer": "ipython3",
   "version": "3.9.16 (main, Mar  8 2023, 14:00:05) \n[GCC 11.2.0]"
  },
  "orig_nbformat": 4,
  "vscode": {
   "interpreter": {
    "hash": "c76da3b56f7b51de8598cd3a1b1952e7a7c2b08e80c4d8d0dcb567dfaa788a0f"
   }
  }
 },
 "nbformat": 4,
 "nbformat_minor": 2
}
