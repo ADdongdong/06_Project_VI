{
 "cells": [
  {
   "cell_type": "code",
   "execution_count": 3,
   "metadata": {
    "ExecuteTime": {
     "end_time": "2023-10-10T00:49:00.660757800Z",
     "start_time": "2023-10-10T00:49:00.651764400Z"
    }
   },
   "outputs": [],
   "source": [
    "import numpy as np\n",
    "\n",
    "N_samples = [30, 30, 30]\n",
    "G_samples = [18, 18, 18]\n",
    "\n",
    "group_idx = np.repeat(np.arange(len(N_samples)), N_samples)\n",
    "data = []\n",
    "for i in range(0, len(N_samples)):\n",
    "    data.extend(np.repeat([1, 0], [G_samples[i], N_samples[i]- G_samples[i]]))"
   ]
  },
  {
   "cell_type": "code",
   "execution_count": 3,
   "metadata": {
    "ExecuteTime": {
     "end_time": "2023-10-07T01:12:52.857824800Z",
     "start_time": "2023-10-07T01:12:38.021780100Z"
    }
   },
   "outputs": [
    {
     "ename": "ImportError",
     "evalue": "DLL load failed while importing _netCDF4: 找不到指定的程序。",
     "output_type": "error",
     "traceback": [
      "\u001B[1;31m---------------------------------------------------------------------------\u001B[0m",
      "\u001B[1;31mImportError\u001B[0m                               Traceback (most recent call last)",
      "Cell \u001B[1;32mIn[3], line 1\u001B[0m\n\u001B[1;32m----> 1\u001B[0m \u001B[38;5;28;01mimport\u001B[39;00m \u001B[38;5;21;01mpymc\u001B[39;00m \u001B[38;5;28;01mas\u001B[39;00m \u001B[38;5;21;01mpm\u001B[39;00m\n\u001B[0;32m      2\u001B[0m \u001B[38;5;28;01mimport\u001B[39;00m \u001B[38;5;21;01marviz\u001B[39;00m \u001B[38;5;28;01mas\u001B[39;00m \u001B[38;5;21;01maz\u001B[39;00m\n\u001B[0;32m      4\u001B[0m \u001B[38;5;28;01mwith\u001B[39;00m pm\u001B[38;5;241m.\u001B[39mModel() \u001B[38;5;28;01mas\u001B[39;00m model_h:\n\u001B[0;32m      5\u001B[0m     \u001B[38;5;66;03m#这里mu 和k就是超参数\u001B[39;00m\n",
      "File \u001B[1;32mC:\\ProgramData\\Anaconda3\\envs\\pytorch\\lib\\site-packages\\pymc\\__init__.py:49\u001B[0m\n\u001B[0;32m     44\u001B[0m     pytensor\u001B[38;5;241m.\u001B[39mconfig\u001B[38;5;241m.\u001B[39mgcc__cxxflags \u001B[38;5;241m=\u001B[39m augmented\n\u001B[0;32m     47\u001B[0m __set_compiler_flags()\n\u001B[1;32m---> 49\u001B[0m \u001B[38;5;28;01mfrom\u001B[39;00m \u001B[38;5;21;01mpymc\u001B[39;00m \u001B[38;5;28;01mimport\u001B[39;00m _version, gp, ode, sampling\n\u001B[0;32m     50\u001B[0m \u001B[38;5;28;01mfrom\u001B[39;00m \u001B[38;5;21;01mpymc\u001B[39;00m\u001B[38;5;21;01m.\u001B[39;00m\u001B[38;5;21;01mbackends\u001B[39;00m \u001B[38;5;28;01mimport\u001B[39;00m \u001B[38;5;241m*\u001B[39m\n\u001B[0;32m     51\u001B[0m \u001B[38;5;28;01mfrom\u001B[39;00m \u001B[38;5;21;01mpymc\u001B[39;00m\u001B[38;5;21;01m.\u001B[39;00m\u001B[38;5;21;01mblocking\u001B[39;00m \u001B[38;5;28;01mimport\u001B[39;00m \u001B[38;5;241m*\u001B[39m\n",
      "File \u001B[1;32mC:\\ProgramData\\Anaconda3\\envs\\pytorch\\lib\\site-packages\\pymc\\gp\\__init__.py:15\u001B[0m\n\u001B[0;32m      1\u001B[0m \u001B[38;5;66;03m#   Copyright 2020 The PyMC Developers\u001B[39;00m\n\u001B[0;32m      2\u001B[0m \u001B[38;5;66;03m#\u001B[39;00m\n\u001B[0;32m      3\u001B[0m \u001B[38;5;66;03m#   Licensed under the Apache License, Version 2.0 (the \"License\");\u001B[39;00m\n\u001B[1;32m   (...)\u001B[0m\n\u001B[0;32m     12\u001B[0m \u001B[38;5;66;03m#   See the License for the specific language governing permissions and\u001B[39;00m\n\u001B[0;32m     13\u001B[0m \u001B[38;5;66;03m#   limitations under the License.\u001B[39;00m\n\u001B[1;32m---> 15\u001B[0m \u001B[38;5;28;01mfrom\u001B[39;00m \u001B[38;5;21;01mpymc\u001B[39;00m\u001B[38;5;21;01m.\u001B[39;00m\u001B[38;5;21;01mgp\u001B[39;00m \u001B[38;5;28;01mimport\u001B[39;00m cov, mean, util\n\u001B[0;32m     16\u001B[0m \u001B[38;5;28;01mfrom\u001B[39;00m \u001B[38;5;21;01mpymc\u001B[39;00m\u001B[38;5;21;01m.\u001B[39;00m\u001B[38;5;21;01mgp\u001B[39;00m\u001B[38;5;21;01m.\u001B[39;00m\u001B[38;5;21;01mgp\u001B[39;00m \u001B[38;5;28;01mimport\u001B[39;00m (\n\u001B[0;32m     17\u001B[0m     TP,\n\u001B[0;32m     18\u001B[0m     Latent,\n\u001B[1;32m   (...)\u001B[0m\n\u001B[0;32m     23\u001B[0m     MarginalSparse,\n\u001B[0;32m     24\u001B[0m )\n",
      "File \u001B[1;32mC:\\ProgramData\\Anaconda3\\envs\\pytorch\\lib\\site-packages\\pymc\\gp\\util.py:30\u001B[0m\n\u001B[0;32m     27\u001B[0m \u001B[38;5;28;01mfrom\u001B[39;00m \u001B[38;5;21;01mscipy\u001B[39;00m\u001B[38;5;21;01m.\u001B[39;00m\u001B[38;5;21;01mcluster\u001B[39;00m\u001B[38;5;21;01m.\u001B[39;00m\u001B[38;5;21;01mvq\u001B[39;00m \u001B[38;5;28;01mimport\u001B[39;00m kmeans\n\u001B[0;32m     29\u001B[0m \u001B[38;5;66;03m# Avoid circular dependency when importing modelcontext\u001B[39;00m\n\u001B[1;32m---> 30\u001B[0m \u001B[38;5;28;01mfrom\u001B[39;00m \u001B[38;5;21;01mpymc\u001B[39;00m\u001B[38;5;21;01m.\u001B[39;00m\u001B[38;5;21;01mdistributions\u001B[39;00m\u001B[38;5;21;01m.\u001B[39;00m\u001B[38;5;21;01mdistribution\u001B[39;00m \u001B[38;5;28;01mimport\u001B[39;00m Distribution\n\u001B[0;32m     31\u001B[0m \u001B[38;5;28;01mfrom\u001B[39;00m \u001B[38;5;21;01mpymc\u001B[39;00m\u001B[38;5;21;01m.\u001B[39;00m\u001B[38;5;21;01mpytensorf\u001B[39;00m \u001B[38;5;28;01mimport\u001B[39;00m compile_pymc, walk_model\n\u001B[0;32m     33\u001B[0m _ \u001B[38;5;241m=\u001B[39m Distribution  \u001B[38;5;66;03m# keep both pylint and black happy\u001B[39;00m\n",
      "File \u001B[1;32mC:\\ProgramData\\Anaconda3\\envs\\pytorch\\lib\\site-packages\\pymc\\distributions\\__init__.py:20\u001B[0m\n\u001B[0;32m      1\u001B[0m \u001B[38;5;66;03m#   Copyright 2020 The PyMC Developers\u001B[39;00m\n\u001B[0;32m      2\u001B[0m \u001B[38;5;66;03m#\u001B[39;00m\n\u001B[0;32m      3\u001B[0m \u001B[38;5;66;03m#   Licensed under the Apache License, Version 2.0 (the \"License\");\u001B[39;00m\n\u001B[1;32m   (...)\u001B[0m\n\u001B[0;32m     12\u001B[0m \u001B[38;5;66;03m#   See the License for the specific language governing permissions and\u001B[39;00m\n\u001B[0;32m     13\u001B[0m \u001B[38;5;66;03m#   limitations under the License.\u001B[39;00m\n\u001B[0;32m     15\u001B[0m \u001B[38;5;28;01mfrom\u001B[39;00m \u001B[38;5;21;01mpymc\u001B[39;00m\u001B[38;5;21;01m.\u001B[39;00m\u001B[38;5;21;01mdistributions\u001B[39;00m\u001B[38;5;21;01m.\u001B[39;00m\u001B[38;5;21;01mlogprob\u001B[39;00m \u001B[38;5;28;01mimport\u001B[39;00m (  \u001B[38;5;66;03m# isort:skip\u001B[39;00m\n\u001B[0;32m     16\u001B[0m     logcdf,\n\u001B[0;32m     17\u001B[0m     logp,\n\u001B[0;32m     18\u001B[0m )\n\u001B[1;32m---> 20\u001B[0m \u001B[38;5;28;01mfrom\u001B[39;00m \u001B[38;5;21;01mpymc\u001B[39;00m\u001B[38;5;21;01m.\u001B[39;00m\u001B[38;5;21;01mdistributions\u001B[39;00m\u001B[38;5;21;01m.\u001B[39;00m\u001B[38;5;21;01mbound\u001B[39;00m \u001B[38;5;28;01mimport\u001B[39;00m Bound\n\u001B[0;32m     21\u001B[0m \u001B[38;5;28;01mfrom\u001B[39;00m \u001B[38;5;21;01mpymc\u001B[39;00m\u001B[38;5;21;01m.\u001B[39;00m\u001B[38;5;21;01mdistributions\u001B[39;00m\u001B[38;5;21;01m.\u001B[39;00m\u001B[38;5;21;01mcensored\u001B[39;00m \u001B[38;5;28;01mimport\u001B[39;00m Censored\n\u001B[0;32m     22\u001B[0m \u001B[38;5;28;01mfrom\u001B[39;00m \u001B[38;5;21;01mpymc\u001B[39;00m\u001B[38;5;21;01m.\u001B[39;00m\u001B[38;5;21;01mdistributions\u001B[39;00m\u001B[38;5;21;01m.\u001B[39;00m\u001B[38;5;21;01mcontinuous\u001B[39;00m \u001B[38;5;28;01mimport\u001B[39;00m (\n\u001B[0;32m     23\u001B[0m     AsymmetricLaplace,\n\u001B[0;32m     24\u001B[0m     Beta,\n\u001B[1;32m   (...)\u001B[0m\n\u001B[0;32m     56\u001B[0m     Weibull,\n\u001B[0;32m     57\u001B[0m )\n",
      "File \u001B[1;32mC:\\ProgramData\\Anaconda3\\envs\\pytorch\\lib\\site-packages\\pymc\\distributions\\bound.py:23\u001B[0m\n\u001B[0;32m     20\u001B[0m \u001B[38;5;28;01mfrom\u001B[39;00m \u001B[38;5;21;01mpytensor\u001B[39;00m\u001B[38;5;21;01m.\u001B[39;00m\u001B[38;5;21;01mtensor\u001B[39;00m\u001B[38;5;21;01m.\u001B[39;00m\u001B[38;5;21;01mrandom\u001B[39;00m\u001B[38;5;21;01m.\u001B[39;00m\u001B[38;5;21;01mop\u001B[39;00m \u001B[38;5;28;01mimport\u001B[39;00m RandomVariable\n\u001B[0;32m     21\u001B[0m \u001B[38;5;28;01mfrom\u001B[39;00m \u001B[38;5;21;01mpytensor\u001B[39;00m\u001B[38;5;21;01m.\u001B[39;00m\u001B[38;5;21;01mtensor\u001B[39;00m\u001B[38;5;21;01m.\u001B[39;00m\u001B[38;5;21;01mvar\u001B[39;00m \u001B[38;5;28;01mimport\u001B[39;00m TensorVariable\n\u001B[1;32m---> 23\u001B[0m \u001B[38;5;28;01mfrom\u001B[39;00m \u001B[38;5;21;01mpymc\u001B[39;00m\u001B[38;5;21;01m.\u001B[39;00m\u001B[38;5;21;01mdistributions\u001B[39;00m\u001B[38;5;21;01m.\u001B[39;00m\u001B[38;5;21;01mcontinuous\u001B[39;00m \u001B[38;5;28;01mimport\u001B[39;00m BoundedContinuous, bounded_cont_transform\n\u001B[0;32m     24\u001B[0m \u001B[38;5;28;01mfrom\u001B[39;00m \u001B[38;5;21;01mpymc\u001B[39;00m\u001B[38;5;21;01m.\u001B[39;00m\u001B[38;5;21;01mdistributions\u001B[39;00m\u001B[38;5;21;01m.\u001B[39;00m\u001B[38;5;21;01mdist_math\u001B[39;00m \u001B[38;5;28;01mimport\u001B[39;00m check_parameters\n\u001B[0;32m     25\u001B[0m \u001B[38;5;28;01mfrom\u001B[39;00m \u001B[38;5;21;01mpymc\u001B[39;00m\u001B[38;5;21;01m.\u001B[39;00m\u001B[38;5;21;01mdistributions\u001B[39;00m\u001B[38;5;21;01m.\u001B[39;00m\u001B[38;5;21;01mdistribution\u001B[39;00m \u001B[38;5;28;01mimport\u001B[39;00m Continuous, Discrete\n",
      "File \u001B[1;32mC:\\ProgramData\\Anaconda3\\envs\\pytorch\\lib\\site-packages\\pymc\\distributions\\continuous.py:80\u001B[0m\n\u001B[0;32m     77\u001B[0m \u001B[38;5;28;01mfrom\u001B[39;00m \u001B[38;5;21;01mscipy\u001B[39;00m\u001B[38;5;21;01m.\u001B[39;00m\u001B[38;5;21;01mspecial\u001B[39;00m \u001B[38;5;28;01mimport\u001B[39;00m expit\n\u001B[0;32m     79\u001B[0m \u001B[38;5;28;01mfrom\u001B[39;00m \u001B[38;5;21;01mpymc\u001B[39;00m\u001B[38;5;21;01m.\u001B[39;00m\u001B[38;5;21;01mdistributions\u001B[39;00m \u001B[38;5;28;01mimport\u001B[39;00m transforms\n\u001B[1;32m---> 80\u001B[0m \u001B[38;5;28;01mfrom\u001B[39;00m \u001B[38;5;21;01mpymc\u001B[39;00m\u001B[38;5;21;01m.\u001B[39;00m\u001B[38;5;21;01mdistributions\u001B[39;00m\u001B[38;5;21;01m.\u001B[39;00m\u001B[38;5;21;01mdist_math\u001B[39;00m \u001B[38;5;28;01mimport\u001B[39;00m (\n\u001B[0;32m     81\u001B[0m     SplineWrapper,\n\u001B[0;32m     82\u001B[0m     check_parameters,\n\u001B[0;32m     83\u001B[0m     clipped_beta_rvs,\n\u001B[0;32m     84\u001B[0m     i0e,\n\u001B[0;32m     85\u001B[0m     log_normal,\n\u001B[0;32m     86\u001B[0m     logpow,\n\u001B[0;32m     87\u001B[0m     normal_lccdf,\n\u001B[0;32m     88\u001B[0m     normal_lcdf,\n\u001B[0;32m     89\u001B[0m     zvalue,\n\u001B[0;32m     90\u001B[0m )\n\u001B[0;32m     91\u001B[0m \u001B[38;5;28;01mfrom\u001B[39;00m \u001B[38;5;21;01mpymc\u001B[39;00m\u001B[38;5;21;01m.\u001B[39;00m\u001B[38;5;21;01mdistributions\u001B[39;00m\u001B[38;5;21;01m.\u001B[39;00m\u001B[38;5;21;01mdistribution\u001B[39;00m \u001B[38;5;28;01mimport\u001B[39;00m DIST_PARAMETER_TYPES, Continuous\n\u001B[0;32m     92\u001B[0m \u001B[38;5;28;01mfrom\u001B[39;00m \u001B[38;5;21;01mpymc\u001B[39;00m\u001B[38;5;21;01m.\u001B[39;00m\u001B[38;5;21;01mdistributions\u001B[39;00m\u001B[38;5;21;01m.\u001B[39;00m\u001B[38;5;21;01mshape_utils\u001B[39;00m \u001B[38;5;28;01mimport\u001B[39;00m rv_size_is_none\n",
      "File \u001B[1;32mC:\\ProgramData\\Anaconda3\\envs\\pytorch\\lib\\site-packages\\pymc\\distributions\\dist_math.py:38\u001B[0m\n\u001B[0;32m     35\u001B[0m \u001B[38;5;28;01mfrom\u001B[39;00m \u001B[38;5;21;01mpytensor\u001B[39;00m\u001B[38;5;21;01m.\u001B[39;00m\u001B[38;5;21;01mtensor\u001B[39;00m\u001B[38;5;21;01m.\u001B[39;00m\u001B[38;5;21;01melemwise\u001B[39;00m \u001B[38;5;28;01mimport\u001B[39;00m Elemwise\n\u001B[0;32m     36\u001B[0m \u001B[38;5;28;01mfrom\u001B[39;00m \u001B[38;5;21;01mpytensor\u001B[39;00m\u001B[38;5;21;01m.\u001B[39;00m\u001B[38;5;21;01mtensor\u001B[39;00m\u001B[38;5;21;01m.\u001B[39;00m\u001B[38;5;21;01mslinalg\u001B[39;00m \u001B[38;5;28;01mimport\u001B[39;00m Cholesky, SolveTriangular\n\u001B[1;32m---> 38\u001B[0m \u001B[38;5;28;01mfrom\u001B[39;00m \u001B[38;5;21;01mpymc\u001B[39;00m\u001B[38;5;21;01m.\u001B[39;00m\u001B[38;5;21;01mdistributions\u001B[39;00m\u001B[38;5;21;01m.\u001B[39;00m\u001B[38;5;21;01mshape_utils\u001B[39;00m \u001B[38;5;28;01mimport\u001B[39;00m to_tuple\n\u001B[0;32m     39\u001B[0m \u001B[38;5;28;01mfrom\u001B[39;00m \u001B[38;5;21;01mpymc\u001B[39;00m\u001B[38;5;21;01m.\u001B[39;00m\u001B[38;5;21;01mlogprob\u001B[39;00m\u001B[38;5;21;01m.\u001B[39;00m\u001B[38;5;21;01mutils\u001B[39;00m \u001B[38;5;28;01mimport\u001B[39;00m CheckParameterValue\n\u001B[0;32m     40\u001B[0m \u001B[38;5;28;01mfrom\u001B[39;00m \u001B[38;5;21;01mpymc\u001B[39;00m\u001B[38;5;21;01m.\u001B[39;00m\u001B[38;5;21;01mpytensorf\u001B[39;00m \u001B[38;5;28;01mimport\u001B[39;00m floatX\n",
      "File \u001B[1;32mC:\\ProgramData\\Anaconda3\\envs\\pytorch\\lib\\site-packages\\pymc\\distributions\\shape_utils.py:37\u001B[0m\n\u001B[0;32m     34\u001B[0m \u001B[38;5;28;01mfrom\u001B[39;00m \u001B[38;5;21;01mpytensor\u001B[39;00m\u001B[38;5;21;01m.\u001B[39;00m\u001B[38;5;21;01mtensor\u001B[39;00m\u001B[38;5;21;01m.\u001B[39;00m\u001B[38;5;21;01mvar\u001B[39;00m \u001B[38;5;28;01mimport\u001B[39;00m TensorVariable\n\u001B[0;32m     35\u001B[0m \u001B[38;5;28;01mfrom\u001B[39;00m \u001B[38;5;21;01mtyping_extensions\u001B[39;00m \u001B[38;5;28;01mimport\u001B[39;00m TypeAlias\n\u001B[1;32m---> 37\u001B[0m \u001B[38;5;28;01mfrom\u001B[39;00m \u001B[38;5;21;01mpymc\u001B[39;00m\u001B[38;5;21;01m.\u001B[39;00m\u001B[38;5;21;01mmodel\u001B[39;00m \u001B[38;5;28;01mimport\u001B[39;00m modelcontext\n\u001B[0;32m     38\u001B[0m \u001B[38;5;28;01mfrom\u001B[39;00m \u001B[38;5;21;01mpymc\u001B[39;00m\u001B[38;5;21;01m.\u001B[39;00m\u001B[38;5;21;01mpytensorf\u001B[39;00m \u001B[38;5;28;01mimport\u001B[39;00m convert_observed_data\n\u001B[0;32m     40\u001B[0m __all__ \u001B[38;5;241m=\u001B[39m [\n\u001B[0;32m     41\u001B[0m     \u001B[38;5;124m\"\u001B[39m\u001B[38;5;124mto_tuple\u001B[39m\u001B[38;5;124m\"\u001B[39m,\n\u001B[0;32m     42\u001B[0m     \u001B[38;5;124m\"\u001B[39m\u001B[38;5;124mshapes_broadcasting\u001B[39m\u001B[38;5;124m\"\u001B[39m,\n\u001B[1;32m   (...)\u001B[0m\n\u001B[0;32m     48\u001B[0m     \u001B[38;5;124m\"\u001B[39m\u001B[38;5;124mchange_dist_size\u001B[39m\u001B[38;5;124m\"\u001B[39m,\n\u001B[0;32m     49\u001B[0m ]\n",
      "File \u001B[1;32mC:\\ProgramData\\Anaconda3\\envs\\pytorch\\lib\\site-packages\\pymc\\model.py:63\u001B[0m\n\u001B[0;32m     55\u001B[0m \u001B[38;5;28;01mfrom\u001B[39;00m \u001B[38;5;21;01mpymc\u001B[39;00m\u001B[38;5;21;01m.\u001B[39;00m\u001B[38;5;21;01mdistributions\u001B[39;00m\u001B[38;5;21;01m.\u001B[39;00m\u001B[38;5;21;01mtransforms\u001B[39;00m \u001B[38;5;28;01mimport\u001B[39;00m _default_transform\n\u001B[0;32m     56\u001B[0m \u001B[38;5;28;01mfrom\u001B[39;00m \u001B[38;5;21;01mpymc\u001B[39;00m\u001B[38;5;21;01m.\u001B[39;00m\u001B[38;5;21;01mexceptions\u001B[39;00m \u001B[38;5;28;01mimport\u001B[39;00m (\n\u001B[0;32m     57\u001B[0m     BlockModelAccessError,\n\u001B[0;32m     58\u001B[0m     ImputationWarning,\n\u001B[1;32m   (...)\u001B[0m\n\u001B[0;32m     61\u001B[0m     ShapeWarning,\n\u001B[0;32m     62\u001B[0m )\n\u001B[1;32m---> 63\u001B[0m \u001B[38;5;28;01mfrom\u001B[39;00m \u001B[38;5;21;01mpymc\u001B[39;00m\u001B[38;5;21;01m.\u001B[39;00m\u001B[38;5;21;01minitial_point\u001B[39;00m \u001B[38;5;28;01mimport\u001B[39;00m make_initial_point_fn\n\u001B[0;32m     64\u001B[0m \u001B[38;5;28;01mfrom\u001B[39;00m \u001B[38;5;21;01mpymc\u001B[39;00m\u001B[38;5;21;01m.\u001B[39;00m\u001B[38;5;21;01mpytensorf\u001B[39;00m \u001B[38;5;28;01mimport\u001B[39;00m (\n\u001B[0;32m     65\u001B[0m     PointFunc,\n\u001B[0;32m     66\u001B[0m     SeedSequenceSeed,\n\u001B[1;32m   (...)\u001B[0m\n\u001B[0;32m     72\u001B[0m     replace_rvs_by_values,\n\u001B[0;32m     73\u001B[0m )\n\u001B[0;32m     74\u001B[0m \u001B[38;5;28;01mfrom\u001B[39;00m \u001B[38;5;21;01mpymc\u001B[39;00m\u001B[38;5;21;01m.\u001B[39;00m\u001B[38;5;21;01mutil\u001B[39;00m \u001B[38;5;28;01mimport\u001B[39;00m (\n\u001B[0;32m     75\u001B[0m     UNSET,\n\u001B[0;32m     76\u001B[0m     WithMemoization,\n\u001B[1;32m   (...)\u001B[0m\n\u001B[0;32m     82\u001B[0m     treelist,\n\u001B[0;32m     83\u001B[0m )\n",
      "File \u001B[1;32mC:\\ProgramData\\Anaconda3\\envs\\pytorch\\lib\\site-packages\\pymc\\initial_point.py:29\u001B[0m\n\u001B[0;32m     27\u001B[0m \u001B[38;5;28;01mfrom\u001B[39;00m \u001B[38;5;21;01mpymc\u001B[39;00m\u001B[38;5;21;01m.\u001B[39;00m\u001B[38;5;21;01mlogprob\u001B[39;00m\u001B[38;5;21;01m.\u001B[39;00m\u001B[38;5;21;01mtransforms\u001B[39;00m \u001B[38;5;28;01mimport\u001B[39;00m RVTransform\n\u001B[0;32m     28\u001B[0m \u001B[38;5;28;01mfrom\u001B[39;00m \u001B[38;5;21;01mpymc\u001B[39;00m\u001B[38;5;21;01m.\u001B[39;00m\u001B[38;5;21;01mpytensorf\u001B[39;00m \u001B[38;5;28;01mimport\u001B[39;00m compile_pymc, find_rng_nodes, replace_rng_nodes, reseed_rngs\n\u001B[1;32m---> 29\u001B[0m \u001B[38;5;28;01mfrom\u001B[39;00m \u001B[38;5;21;01mpymc\u001B[39;00m\u001B[38;5;21;01m.\u001B[39;00m\u001B[38;5;21;01mutil\u001B[39;00m \u001B[38;5;28;01mimport\u001B[39;00m get_transformed_name, get_untransformed_name, is_transformed_name\n\u001B[0;32m     31\u001B[0m StartDict \u001B[38;5;241m=\u001B[39m Dict[Union[Variable, \u001B[38;5;28mstr\u001B[39m], Union[np\u001B[38;5;241m.\u001B[39mndarray, Variable, \u001B[38;5;28mstr\u001B[39m]]\n\u001B[0;32m     32\u001B[0m PointType \u001B[38;5;241m=\u001B[39m Dict[\u001B[38;5;28mstr\u001B[39m, np\u001B[38;5;241m.\u001B[39mndarray]\n",
      "File \u001B[1;32mC:\\ProgramData\\Anaconda3\\envs\\pytorch\\lib\\site-packages\\pymc\\util.py:20\u001B[0m\n\u001B[0;32m     16\u001B[0m \u001B[38;5;28;01mimport\u001B[39;00m \u001B[38;5;21;01mwarnings\u001B[39;00m\n\u001B[0;32m     18\u001B[0m \u001B[38;5;28;01mfrom\u001B[39;00m \u001B[38;5;21;01mtyping\u001B[39;00m \u001B[38;5;28;01mimport\u001B[39;00m Any, Dict, List, Optional, Sequence, Tuple, Union, cast\n\u001B[1;32m---> 20\u001B[0m \u001B[38;5;28;01mimport\u001B[39;00m \u001B[38;5;21;01marviz\u001B[39;00m\n\u001B[0;32m     21\u001B[0m \u001B[38;5;28;01mimport\u001B[39;00m \u001B[38;5;21;01mcloudpickle\u001B[39;00m\n\u001B[0;32m     22\u001B[0m \u001B[38;5;28;01mimport\u001B[39;00m \u001B[38;5;21;01mnumpy\u001B[39;00m \u001B[38;5;28;01mas\u001B[39;00m \u001B[38;5;21;01mnp\u001B[39;00m\n",
      "File \u001B[1;32mC:\\ProgramData\\Anaconda3\\envs\\pytorch\\lib\\site-packages\\arviz\\__init__.py:33\u001B[0m\n\u001B[0;32m     27\u001B[0m         \u001B[38;5;28msuper\u001B[39m()\u001B[38;5;241m.\u001B[39m_log(level, msg, \u001B[38;5;241m*\u001B[39margs, \u001B[38;5;241m*\u001B[39m\u001B[38;5;241m*\u001B[39mkwargs)\n\u001B[0;32m     30\u001B[0m _log \u001B[38;5;241m=\u001B[39m Logger(\u001B[38;5;124m\"\u001B[39m\u001B[38;5;124marviz\u001B[39m\u001B[38;5;124m\"\u001B[39m)\n\u001B[1;32m---> 33\u001B[0m \u001B[38;5;28;01mfrom\u001B[39;00m \u001B[38;5;21;01m.\u001B[39;00m\u001B[38;5;21;01mdata\u001B[39;00m \u001B[38;5;28;01mimport\u001B[39;00m \u001B[38;5;241m*\u001B[39m\n\u001B[0;32m     34\u001B[0m \u001B[38;5;28;01mfrom\u001B[39;00m \u001B[38;5;21;01m.\u001B[39;00m\u001B[38;5;21;01mplots\u001B[39;00m \u001B[38;5;28;01mimport\u001B[39;00m \u001B[38;5;241m*\u001B[39m\n\u001B[0;32m     35\u001B[0m \u001B[38;5;28;01mfrom\u001B[39;00m \u001B[38;5;21;01m.\u001B[39;00m\u001B[38;5;21;01mplots\u001B[39;00m\u001B[38;5;21;01m.\u001B[39;00m\u001B[38;5;21;01mbackends\u001B[39;00m \u001B[38;5;28;01mimport\u001B[39;00m \u001B[38;5;241m*\u001B[39m\n",
      "File \u001B[1;32mC:\\ProgramData\\Anaconda3\\envs\\pytorch\\lib\\site-packages\\arviz\\data\\__init__.py:3\u001B[0m\n\u001B[0;32m      1\u001B[0m \u001B[38;5;124;03m\"\"\"Code for loading and manipulating data structures.\"\"\"\u001B[39;00m\n\u001B[0;32m      2\u001B[0m \u001B[38;5;28;01mfrom\u001B[39;00m \u001B[38;5;21;01m.\u001B[39;00m\u001B[38;5;21;01mbase\u001B[39;00m \u001B[38;5;28;01mimport\u001B[39;00m CoordSpec, DimSpec, dict_to_dataset, numpy_to_data_array\n\u001B[1;32m----> 3\u001B[0m \u001B[38;5;28;01mfrom\u001B[39;00m \u001B[38;5;21;01m.\u001B[39;00m\u001B[38;5;21;01mconverters\u001B[39;00m \u001B[38;5;28;01mimport\u001B[39;00m convert_to_dataset, convert_to_inference_data\n\u001B[0;32m      4\u001B[0m \u001B[38;5;28;01mfrom\u001B[39;00m \u001B[38;5;21;01m.\u001B[39;00m\u001B[38;5;21;01mdatasets\u001B[39;00m \u001B[38;5;28;01mimport\u001B[39;00m clear_data_home, list_datasets, load_arviz_data\n\u001B[0;32m      5\u001B[0m \u001B[38;5;28;01mfrom\u001B[39;00m \u001B[38;5;21;01m.\u001B[39;00m\u001B[38;5;21;01minference_data\u001B[39;00m \u001B[38;5;28;01mimport\u001B[39;00m InferenceData, concat\n",
      "File \u001B[1;32mC:\\ProgramData\\Anaconda3\\envs\\pytorch\\lib\\site-packages\\arviz\\data\\converters.py:6\u001B[0m\n\u001B[0;32m      3\u001B[0m \u001B[38;5;28;01mimport\u001B[39;00m \u001B[38;5;21;01mxarray\u001B[39;00m \u001B[38;5;28;01mas\u001B[39;00m \u001B[38;5;21;01mxr\u001B[39;00m\n\u001B[0;32m      5\u001B[0m \u001B[38;5;28;01mfrom\u001B[39;00m \u001B[38;5;21;01m.\u001B[39;00m\u001B[38;5;21;01mbase\u001B[39;00m \u001B[38;5;28;01mimport\u001B[39;00m dict_to_dataset\n\u001B[1;32m----> 6\u001B[0m \u001B[38;5;28;01mfrom\u001B[39;00m \u001B[38;5;21;01m.\u001B[39;00m\u001B[38;5;21;01minference_data\u001B[39;00m \u001B[38;5;28;01mimport\u001B[39;00m InferenceData\n\u001B[0;32m      7\u001B[0m \u001B[38;5;28;01mfrom\u001B[39;00m \u001B[38;5;21;01m.\u001B[39;00m\u001B[38;5;21;01mio_beanmachine\u001B[39;00m \u001B[38;5;28;01mimport\u001B[39;00m from_beanmachine\n\u001B[0;32m      8\u001B[0m \u001B[38;5;28;01mfrom\u001B[39;00m \u001B[38;5;21;01m.\u001B[39;00m\u001B[38;5;21;01mio_cmdstan\u001B[39;00m \u001B[38;5;28;01mimport\u001B[39;00m from_cmdstan\n",
      "File \u001B[1;32mC:\\ProgramData\\Anaconda3\\envs\\pytorch\\lib\\site-packages\\arviz\\data\\inference_data.py:27\u001B[0m\n\u001B[0;32m     12\u001B[0m \u001B[38;5;28;01mfrom\u001B[39;00m \u001B[38;5;21;01mhtml\u001B[39;00m \u001B[38;5;28;01mimport\u001B[39;00m escape\n\u001B[0;32m     13\u001B[0m \u001B[38;5;28;01mfrom\u001B[39;00m \u001B[38;5;21;01mtyping\u001B[39;00m \u001B[38;5;28;01mimport\u001B[39;00m (\n\u001B[0;32m     14\u001B[0m     TYPE_CHECKING,\n\u001B[0;32m     15\u001B[0m     Any,\n\u001B[1;32m   (...)\u001B[0m\n\u001B[0;32m     24\u001B[0m     overload,\n\u001B[0;32m     25\u001B[0m )\n\u001B[1;32m---> 27\u001B[0m \u001B[38;5;28;01mimport\u001B[39;00m \u001B[38;5;21;01mnetCDF4\u001B[39;00m \u001B[38;5;28;01mas\u001B[39;00m \u001B[38;5;21;01mnc\u001B[39;00m\n\u001B[0;32m     28\u001B[0m \u001B[38;5;28;01mimport\u001B[39;00m \u001B[38;5;21;01mnumpy\u001B[39;00m \u001B[38;5;28;01mas\u001B[39;00m \u001B[38;5;21;01mnp\u001B[39;00m\n\u001B[0;32m     29\u001B[0m \u001B[38;5;28;01mimport\u001B[39;00m \u001B[38;5;21;01mxarray\u001B[39;00m \u001B[38;5;28;01mas\u001B[39;00m \u001B[38;5;21;01mxr\u001B[39;00m\n",
      "File \u001B[1;32mC:\\ProgramData\\Anaconda3\\envs\\pytorch\\lib\\site-packages\\netCDF4\\__init__.py:3\u001B[0m\n\u001B[0;32m      1\u001B[0m \u001B[38;5;66;03m# init for netCDF4. package\u001B[39;00m\n\u001B[0;32m      2\u001B[0m \u001B[38;5;66;03m# Docstring comes from extension module _netCDF4.\u001B[39;00m\n\u001B[1;32m----> 3\u001B[0m \u001B[38;5;28;01mfrom\u001B[39;00m \u001B[38;5;21;01m.\u001B[39;00m\u001B[38;5;21;01m_netCDF4\u001B[39;00m \u001B[38;5;28;01mimport\u001B[39;00m \u001B[38;5;241m*\u001B[39m\n\u001B[0;32m      4\u001B[0m \u001B[38;5;66;03m# Need explicit imports for names beginning with underscores\u001B[39;00m\n\u001B[0;32m      5\u001B[0m \u001B[38;5;28;01mfrom\u001B[39;00m \u001B[38;5;21;01m.\u001B[39;00m\u001B[38;5;21;01m_netCDF4\u001B[39;00m \u001B[38;5;28;01mimport\u001B[39;00m \u001B[38;5;18m__doc__\u001B[39m\n",
      "\u001B[1;31mImportError\u001B[0m: DLL load failed while importing _netCDF4: 找不到指定的程序。"
     ]
    }
   ],
   "source": [
    "import pymc as pm\n",
    "import arviz as az\n",
    "\n",
    "with pm.Model() as model_h:\n",
    "    #这里mu 和k就是超参数\n",
    "    μ = pm.Beta('μ', 1., 1.)\n",
    "    κ = pm.HalfNormal('κ', 10)\n",
    "\n",
    "    #θ由mu和k决定\n",
    "    θ = pm.Beta('θ', alpha=μ*κ, beta=(1.0-μ)*κ, shape=len(N_samples))\n",
    "    #y由θ决定\n",
    "    y = pm.Bernoulli('y', p=θ[group_idx], observed=data)\n",
    "\n",
    "    trace_h = pm.sample(2000)\n",
    "    \n",
    "print(trace_h)    \n",
    "az.plot_trace(trace_h)"
   ]
  },
  {
   "cell_type": "code",
   "execution_count": 11,
   "metadata": {},
   "outputs": [
    {
     "name": "stderr",
     "output_type": "stream",
     "text": [
      "Auto-assigning NUTS sampler...\n",
      "Initializing NUTS using jitter+adapt_diag...\n",
      "Multiprocess sampling (2 chains in 2 jobs)\n",
      "NUTS: [mu, κ, θ]\n"
     ]
    },
    {
     "data": {
      "text/html": [
       "\n",
       "<style>\n",
       "    /* Turns off some styling */\n",
       "    progress {\n",
       "        /* gets rid of default border in Firefox and Opera. */\n",
       "        border: none;\n",
       "        /* Needs to be in here for Safari polyfill so background images work as expected. */\n",
       "        background-size: auto;\n",
       "    }\n",
       "    progress:not([value]), progress:not([value])::-webkit-progress-bar {\n",
       "        background: repeating-linear-gradient(45deg, #7e7e7e, #7e7e7e 10px, #5c5c5c 10px, #5c5c5c 20px);\n",
       "    }\n",
       "    .progress-bar-interrupted, .progress-bar-interrupted::-webkit-progress-bar {\n",
       "        background: #F44336;\n",
       "    }\n",
       "</style>\n"
      ],
      "text/plain": [
       "<IPython.core.display.HTML object>"
      ]
     },
     "metadata": {},
     "output_type": "display_data"
    },
    {
     "data": {
      "text/html": [
       "\n",
       "    <div>\n",
       "      <progress value='6000' class='' max='6000' style='width:300px; height:20px; vertical-align: middle;'></progress>\n",
       "      100.00% [6000/6000 00:12&lt;00:00 Sampling 2 chains, 0 divergences]\n",
       "    </div>\n",
       "    "
      ],
      "text/plain": [
       "<IPython.core.display.HTML object>"
      ]
     },
     "metadata": {},
     "output_type": "display_data"
    },
    {
     "name": "stderr",
     "output_type": "stream",
     "text": [
      "Sampling 2 chains for 1_000 tune and 2_000 draw iterations (2_000 + 4_000 draws total) took 12 seconds.\n",
      "We recommend running at least 4 chains for robust computation of convergence diagnostics\n"
     ]
    },
    {
     "ename": "KeyError",
     "evalue": "'mu'",
     "output_type": "error",
     "traceback": [
      "\u001B[0;31m---------------------------------------------------------------------------\u001B[0m",
      "\u001B[0;31mKeyError\u001B[0m                                  Traceback (most recent call last)",
      "Cell \u001B[0;32mIn[11], line 20\u001B[0m\n\u001B[1;32m     18\u001B[0m x \u001B[39m=\u001B[39m np\u001B[39m.\u001B[39mlinspace(\u001B[39m0\u001B[39m, \u001B[39m1\u001B[39m, \u001B[39m100\u001B[39m)\n\u001B[1;32m     19\u001B[0m \u001B[39mfor\u001B[39;00m i \u001B[39min\u001B[39;00m np\u001B[39m.\u001B[39mrandom\u001B[39m.\u001B[39mrandint(\u001B[39m0\u001B[39m, \u001B[39mlen\u001B[39m(trace_h), size\u001B[39m=\u001B[39m\u001B[39m100\u001B[39m):\n\u001B[0;32m---> 20\u001B[0m     u \u001B[39m=\u001B[39m trace_h[\u001B[39m'\u001B[39;49m\u001B[39mmu\u001B[39;49m\u001B[39m'\u001B[39;49m][i]\n\u001B[1;32m     21\u001B[0m     k \u001B[39m=\u001B[39m trace_h[\u001B[39m'\u001B[39m\u001B[39mκ\u001B[39m\u001B[39m'\u001B[39m][i]\n\u001B[1;32m     22\u001B[0m     pdf \u001B[39m=\u001B[39m stats\u001B[39m.\u001B[39mbeta(u\u001B[39m*\u001B[39mk, (\u001B[39m1.0\u001B[39m\u001B[39m-\u001B[39mu)\u001B[39m*\u001B[39mk)\u001B[39m.\u001B[39mpdf(x)\n",
      "File \u001B[0;32m~/miniconda3/envs/pymc_env/lib/python3.9/site-packages/arviz/data/inference_data.py:258\u001B[0m, in \u001B[0;36mInferenceData.__getitem__\u001B[0;34m(self, key)\u001B[0m\n\u001B[1;32m    256\u001B[0m \u001B[39m\u001B[39m\u001B[39m\"\"\"Get item by key.\"\"\"\u001B[39;00m\n\u001B[1;32m    257\u001B[0m \u001B[39mif\u001B[39;00m key \u001B[39mnot\u001B[39;00m \u001B[39min\u001B[39;00m \u001B[39mself\u001B[39m\u001B[39m.\u001B[39m_groups_all:\n\u001B[0;32m--> 258\u001B[0m     \u001B[39mraise\u001B[39;00m \u001B[39mKeyError\u001B[39;00m(key)\n\u001B[1;32m    259\u001B[0m \u001B[39mreturn\u001B[39;00m \u001B[39mgetattr\u001B[39m(\u001B[39mself\u001B[39m, key)\n",
      "\u001B[0;31mKeyError\u001B[0m: 'mu'"
     ]
    }
   ],
   "source": [
    "import matplotlib.pyplot as plt\n",
    "import scipy.stats as stats\n",
    "import pymc as pm\n",
    "import arviz as az\n",
    "\n",
    "x = np.linspace(0, 1, 100)\n",
    "for i in np.random.randint(0, len(trace_h), size=100):\n",
    "    u = trace_h['mu'][i]\n",
    "    k = trace_h['κ'][i]\n",
    "    pdf = stats.beta(u*k, (1.0-u)*k).pdf(x)\n",
    "    plt.plot(x, pdf, 'C1', alpha=0.2)\n",
    "\n",
    "u_mean = trace_h['mu'].mean()\n",
    "k_mean = trace_h['κ'].mean()\n",
    "dist = stats.beta(u_mean*k_mean, (1.0-u_mean)*k_mean)\n",
    "pdf = dist.pdf(x)\n",
    "mode = x[np.argmax(pdf)]\n",
    "mean = dist.moment(1)\n",
    "plt.plot(x, pdf, lw=3, label=f'mode = {mode:.2f}\\nmean = {mean:.2f}')\n",
    "plt.yticks([])\n",
    "\n",
    "plt.legend()\n",
    "plt.xlabel('$θ_{prior}$')\n",
    "plt.tight_layout()"
   ]
  }
 ],
 "metadata": {
  "kernelspec": {
   "display_name": "pymc_env",
   "language": "python",
   "name": "python3"
  },
  "language_info": {
   "codemirror_mode": {
    "name": "ipython",
    "version": 3
   },
   "file_extension": ".py",
   "mimetype": "text/x-python",
   "name": "python",
   "nbconvert_exporter": "python",
   "pygments_lexer": "ipython3",
   "version": "3.9.16 (main, May 15 2023, 23:46:34) \n[GCC 11.2.0]"
  },
  "orig_nbformat": 4,
  "vscode": {
   "interpreter": {
    "hash": "ba7648b989f46f9110106c23535702e004532f997b2ecdef360ea36dca433e3c"
   }
  }
 },
 "nbformat": 4,
 "nbformat_minor": 2
}
