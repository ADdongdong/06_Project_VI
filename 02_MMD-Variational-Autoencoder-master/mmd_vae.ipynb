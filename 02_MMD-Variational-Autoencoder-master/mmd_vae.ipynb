{
 "cells": [
  {
   "cell_type": "code",
   "execution_count": null,
   "metadata": {
    "collapsed": true
   },
   "outputs": [],
   "source": [
    "import tensorflow as tf\n",
    "import numpy as np\n",
    "from matplotlib import pyplot as plt\n",
    "import math, os"
   ]
  },
  {
   "cell_type": "code",
   "execution_count": null,
   "metadata": {
    "collapsed": true
   },
   "outputs": [],
   "source": [
    "# Define some handy network layers\n",
    "def lrelu(x, rate=0.1):\n",
    "    return tf.maximum(tf.minimum(x * rate, 0), x)\n",
    "\n",
    "def conv2d_lrelu(inputs, num_outputs, kernel_size, stride):\n",
    "    conv = tf.contrib.layers.convolution2d(inputs, num_outputs, kernel_size, stride, \n",
    "                                           weights_initializer=tf.contrib.layers.xavier_initializer(),\n",
    "                                           activation_fn=tf.identity)\n",
    "    conv = lrelu(conv)\n",
    "    return conv\n",
    "\n",
    "def conv2d_t_relu(inputs, num_outputs, kernel_size, stride):\n",
    "    conv = tf.contrib.layers.convolution2d_transpose(inputs, num_outputs, kernel_size, stride,\n",
    "                                                     weights_initializer=tf.contrib.layers.xavier_initializer(),\n",
    "                                                     activation_fn=tf.identity)\n",
    "    conv = tf.nn.relu(conv)\n",
    "    return conv\n",
    "\n",
    "def fc_lrelu(inputs, num_outputs):\n",
    "    fc = tf.contrib.layers.fully_connected(inputs, num_outputs,\n",
    "                                           weights_initializer=tf.contrib.layers.xavier_initializer(),\n",
    "                                           activation_fn=tf.identity)\n",
    "    fc = lrelu(fc)\n",
    "    return fc\n",
    "\n",
    "def fc_relu(inputs, num_outputs):\n",
    "    fc = tf.contrib.layers.fully_connected(inputs, num_outputs,\n",
    "                                           weights_initializer=tf.contrib.layers.xavier_initializer(),\n",
    "                                           activation_fn=tf.identity)\n",
    "    fc = tf.nn.relu(fc)\n",
    "    return fc"
   ]
  },
  {
   "cell_type": "code",
   "execution_count": null,
   "metadata": {
    "collapsed": true
   },
   "outputs": [],
   "source": [
    "# Encoder and decoder use the DC-GAN architecture\n",
    "def encoder(x, z_dim):\n",
    "    with tf.variable_scope('encoder'):\n",
    "        conv1 = conv2d_lrelu(x, 64, 4, 2)\n",
    "        conv2 = conv2d_lrelu(conv1, 128, 4, 2)\n",
    "        conv2 = tf.reshape(conv2, [-1, np.prod(conv2.get_shape().as_list()[1:])])\n",
    "        fc1 = fc_lrelu(conv2, 1024)\n",
    "        return tf.contrib.layers.fully_connected(fc1, z_dim, activation_fn=tf.identity)"
   ]
  },
  {
   "cell_type": "code",
   "execution_count": null,
   "metadata": {
    "collapsed": true
   },
   "outputs": [],
   "source": [
    "def decoder(z, reuse=False):\n",
    "    with tf.variable_scope('decoder') as vs:\n",
    "        if reuse:\n",
    "            vs.reuse_variables()\n",
    "        fc1 = fc_relu(z, 1024)\n",
    "        fc2 = fc_relu(fc1, 7*7*128)\n",
    "        fc2 = tf.reshape(fc2, tf.stack([tf.shape(fc2)[0], 7, 7, 128]))\n",
    "        conv1 = conv2d_t_relu(fc2, 64, 4, 2)\n",
    "        output = tf.contrib.layers.convolution2d_transpose(conv1, 1, 4, 2, activation_fn=tf.sigmoid)\n",
    "        return output"
   ]
  },
  {
   "cell_type": "code",
   "execution_count": null,
   "metadata": {
    "collapsed": true
   },
   "outputs": [],
   "source": [
    "# Build the computation graph for training\n",
    "z_dim = 20\n",
    "train_x = tf.placeholder(tf.float32, shape=[None, 28, 28, 1])\n",
    "train_z = encoder(train_x, z_dim)\n",
    "train_xr = decoder(train_z)"
   ]
  },
  {
   "cell_type": "code",
   "execution_count": null,
   "metadata": {
    "collapsed": true
   },
   "outputs": [],
   "source": [
    "# Build the computation graph for generating samples\n",
    "gen_z = tf.placeholder(tf.float32, shape=[None, z_dim])\n",
    "gen_x = decoder(gen_z, reuse=True)"
   ]
  },
  {
   "cell_type": "code",
   "execution_count": null,
   "metadata": {
    "collapsed": true
   },
   "outputs": [],
   "source": [
    "def compute_kernel(x, y):\n",
    "    x_size = tf.shape(x)[0]\n",
    "    y_size = tf.shape(y)[0]\n",
    "    dim = tf.shape(x)[1]\n",
    "    tiled_x = tf.tile(tf.reshape(x, tf.stack([x_size, 1, dim])), tf.stack([1, y_size, 1]))\n",
    "    tiled_y = tf.tile(tf.reshape(y, tf.stack([1, y_size, dim])), tf.stack([x_size, 1, 1]))\n",
    "    return tf.exp(-tf.reduce_mean(tf.square(tiled_x - tiled_y), axis=2) / tf.cast(dim, tf.float32))\n",
    "\n",
    "def compute_mmd(x, y):\n",
    "    x_kernel = compute_kernel(x, x)\n",
    "    y_kernel = compute_kernel(y, y)\n",
    "    xy_kernel = compute_kernel(x, y)\n",
    "    return tf.reduce_mean(x_kernel) + tf.reduce_mean(y_kernel) - 2 * tf.reduce_mean(xy_kernel)"
   ]
  },
  {
   "cell_type": "code",
   "execution_count": null,
   "metadata": {
    "collapsed": true
   },
   "outputs": [],
   "source": [
    "# Compare the generated z with true samples from a standard Gaussian, and compute their MMD distance\n",
    "true_samples = tf.random_normal(tf.stack([200, z_dim]))\n",
    "loss_mmd = compute_mmd(true_samples, train_z)"
   ]
  },
  {
   "cell_type": "code",
   "execution_count": null,
   "metadata": {
    "collapsed": true
   },
   "outputs": [],
   "source": [
    "loss_nll = tf.reduce_mean(tf.square(train_xr - train_x))\n",
    "loss = loss_nll + loss_mmd\n",
    "trainer = tf.train.AdamOptimizer(1e-3).minimize(loss)"
   ]
  },
  {
   "cell_type": "code",
   "execution_count": null,
   "metadata": {},
   "outputs": [],
   "source": [
    "from tensorflow.examples.tutorials.mnist import input_data\n",
    "mnist = input_data.read_data_sets('mnist_data')"
   ]
  },
  {
   "cell_type": "code",
   "execution_count": null,
   "metadata": {
    "collapsed": true
   },
   "outputs": [],
   "source": [
    "# Convert a numpy array of shape [batch_size, height, width, 1] into a displayable array \n",
    "# of shape [height*sqrt(batch_size, width*sqrt(batch_size))] by tiling the images\n",
    "def convert_to_display(samples):\n",
    "    cnt, height, width = int(math.floor(math.sqrt(samples.shape[0]))), samples.shape[1], samples.shape[2]\n",
    "    samples = np.transpose(samples, axes=[1, 0, 2, 3])\n",
    "    samples = np.reshape(samples, [height, cnt, cnt, width])\n",
    "    samples = np.transpose(samples, axes=[1, 0, 2, 3])\n",
    "    samples = np.reshape(samples, [height*cnt, width*cnt])\n",
    "    return samples"
   ]
  },
  {
   "cell_type": "code",
   "execution_count": null,
   "metadata": {
    "collapsed": true
   },
   "outputs": [],
   "source": [
    "os.environ['CUDA_VISIBLE_DEVICES'] = '2'\n",
    "batch_size = 200\n",
    "sess = tf.Session()\n",
    "sess.run(tf.global_variables_initializer())"
   ]
  },
  {
   "cell_type": "code",
   "execution_count": null,
   "metadata": {},
   "outputs": [],
   "source": [
    "# Start training\n",
    "for i in range(10000):\n",
    "    batch_x, batch_y = mnist.train.next_batch(batch_size)\n",
    "    batch_x = batch_x.reshape(-1, 28, 28, 1)\n",
    "    _, nll, mmd = sess.run([trainer, loss_nll, loss_mmd], feed_dict={train_x: batch_x})\n",
    "    if i % 100 == 0:\n",
    "        print(\"Negative log likelihood is %f, mmd loss is %f\" % (nll, mmd))\n",
    "    if i % 500 == 0:\n",
    "        samples = sess.run(gen_x, feed_dict={gen_z: np.random.normal(size=(100, z_dim))})\n",
    "        plt.imshow(convert_to_display(samples), cmap='Greys_r')\n",
    "        plt.show()"
   ]
  },
  {
   "cell_type": "code",
   "execution_count": null,
   "metadata": {
    "collapsed": true
   },
   "outputs": [],
   "source": [
    "# If latent z is 2-dimensional we visualize it by plotting latent z of different digits in different colors\n",
    "if z_dim == 2:\n",
    "    z_list, label_list = [], []\n",
    "    test_batch_size = 500\n",
    "    for i in range(20):\n",
    "        batch_x, batch_y = mnist.test.next_batch(test_batch_size)\n",
    "        batch_x = batch_x.reshape(-1, 28, 28, 1)\n",
    "        z_list.append(sess.run(train_z, feed_dict={train_x: batch_x}))\n",
    "        label_list.append(batch_y)\n",
    "    z = np.concatenate(z_list, axis=0)\n",
    "    label = np.concatenate(label_list)\n",
    "    plt.scatter(z[:, 0], z[:, 1], c=label)\n",
    "    plt.show()"
   ]
  }
 ],
 "metadata": {
  "kernelspec": {
   "display_name": "numpyro",
   "language": "python",
   "name": "python3"
  },
  "language_info": {
   "codemirror_mode": {
    "name": "ipython",
    "version": 3
   },
   "file_extension": ".py",
   "mimetype": "text/x-python",
   "name": "python",
   "nbconvert_exporter": "python",
   "pygments_lexer": "ipython3",
   "version": "3.9.16 (main, Mar  8 2023, 14:00:05) \n[GCC 11.2.0]"
  },
  "vscode": {
   "interpreter": {
    "hash": "c76da3b56f7b51de8598cd3a1b1952e7a7c2b08e80c4d8d0dcb567dfaa788a0f"
   }
  }
 },
 "nbformat": 4,
 "nbformat_minor": 0
}
