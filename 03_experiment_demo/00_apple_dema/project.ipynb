{
 "cells": [
  {
   "cell_type": "code",
   "execution_count": 2,
   "metadata": {},
   "outputs": [
    {
     "ename": "RuntimeError",
     "evalue": "mat1 and mat2 shapes cannot be multiplied (1x3 and 2x2)",
     "output_type": "error",
     "traceback": [
      "\u001b[0;31m---------------------------------------------------------------------------\u001b[0m",
      "\u001b[0;31mRuntimeError\u001b[0m                              Traceback (most recent call last)",
      "Cell \u001b[0;32mIn[2], line 25\u001b[0m\n\u001b[1;32m     23\u001b[0m v \u001b[39m=\u001b[39m torch\u001b[39m.\u001b[39mtensor([\u001b[39m1\u001b[39m, \u001b[39m2\u001b[39m, \u001b[39m3\u001b[39m], dtype\u001b[39m=\u001b[39mtorch\u001b[39m.\u001b[39mfloat32)\n\u001b[1;32m     24\u001b[0m basis \u001b[39m=\u001b[39m torch\u001b[39m.\u001b[39mtensor([[\u001b[39m1\u001b[39m, \u001b[39m0\u001b[39m, \u001b[39m0\u001b[39m], [\u001b[39m0\u001b[39m, \u001b[39m1\u001b[39m, \u001b[39m0\u001b[39m]], dtype\u001b[39m=\u001b[39mtorch\u001b[39m.\u001b[39mfloat32)\n\u001b[0;32m---> 25\u001b[0m projection \u001b[39m=\u001b[39m projection_theorem(v, basis)\n\u001b[1;32m     27\u001b[0m \u001b[39mprint\u001b[39m(projection)\n",
      "Cell \u001b[0;32mIn[2], line 18\u001b[0m, in \u001b[0;36mprojection_theorem\u001b[0;34m(vector, basis)\u001b[0m\n\u001b[1;32m     15\u001b[0m P \u001b[39m=\u001b[39m torch\u001b[39m.\u001b[39mmatmul(basis, torch\u001b[39m.\u001b[39mtranspose(basis, \u001b[39m0\u001b[39m, \u001b[39m1\u001b[39m))\n\u001b[1;32m     17\u001b[0m \u001b[39m# 进行投影运算\u001b[39;00m\n\u001b[0;32m---> 18\u001b[0m projection \u001b[39m=\u001b[39m torch\u001b[39m.\u001b[39;49mmatmul(vector, P)\n\u001b[1;32m     20\u001b[0m \u001b[39mreturn\u001b[39;00m projection\n",
      "\u001b[0;31mRuntimeError\u001b[0m: mat1 and mat2 shapes cannot be multiplied (1x3 and 2x2)"
     ]
    }
   ],
   "source": [
    "import torch\n",
    "\n",
    "def projection_theorem(vector, basis):\n",
    "    \"\"\"\n",
    "    使用投影定理将向量投影到给定子空间上\n",
    "    \n",
    "    参数:\n",
    "        vector: 要投影的向量，形状为 (d,)\n",
    "        basis: 子空间的基向量，形状为 (d, k)，其中 d 是向量维度，k 是子空间的维度\n",
    "        \n",
    "    返回:\n",
    "        projection: 投影后的向量，形状为 (d,)\n",
    "    \"\"\"\n",
    "    # 计算投影矩阵\n",
    "    P = torch.matmul(basis, torch.transpose(basis, 0, 1))\n",
    "    \n",
    "    # 进行投影运算\n",
    "    projection = torch.matmul(P, vector)\n",
    "    \n",
    "    return projection\n",
    "\n",
    "# 示例用法\n",
    "v = torch.tensor([1, 2, 3], dtype=torch.float32)\n",
    "basis = torch.tensor([[1, 0, 0], [0, 1, 0]], dtype=torch.float32)\n",
    "projection = projection_theorem(v, basis)\n",
    "\n",
    "print(projection)\n"
   ]
  }
 ],
 "metadata": {
  "kernelspec": {
   "display_name": "pytorch",
   "language": "python",
   "name": "python3"
  },
  "language_info": {
   "codemirror_mode": {
    "name": "ipython",
    "version": 3
   },
   "file_extension": ".py",
   "mimetype": "text/x-python",
   "name": "python",
   "nbconvert_exporter": "python",
   "pygments_lexer": "ipython3",
   "version": "3.9.0 (default, Nov 15 2020, 08:30:55) [MSC v.1916 64 bit (AMD64)]"
  },
  "orig_nbformat": 4,
  "vscode": {
   "interpreter": {
    "hash": "240bc028caeb8b02ff80d8aedfc61caf7a0e4db2770780d40c5b717508bae340"
   }
  }
 },
 "nbformat": 4,
 "nbformat_minor": 2
}
