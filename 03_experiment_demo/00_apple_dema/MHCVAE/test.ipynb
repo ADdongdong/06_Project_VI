{
 "cells": [
  {
   "cell_type": "code",
   "execution_count": 2,
   "metadata": {},
   "outputs": [
    {
     "name": "stdout",
     "output_type": "stream",
     "text": [
      "tensor([[0.4362, 0.9356, 0.9606,  ..., 0.9671, 0.6133, 0.3155],\n",
      "        [0.7861, 0.2494, 0.0472,  ..., 0.2979, 0.5428, 0.4169],\n",
      "        [0.8798, 0.8518, 0.4423,  ..., 0.7269, 0.3722, 0.2385],\n",
      "        ...,\n",
      "        [0.4498, 0.6564, 0.0808,  ..., 0.7646, 0.2525, 0.2679],\n",
      "        [0.7181, 0.0959, 0.2694,  ..., 0.5764, 0.4181, 0.2842],\n",
      "        [0.8754, 0.8330, 0.4895,  ..., 0.8221, 0.8265, 0.6493]])\n",
      "Validation Loss: 0.08580431342124939\n"
     ]
    }
   ],
   "source": [
    "import numpy as np\n",
    "import torch\n",
    "import torch.nn as nn\n",
    "import torch.optim as optim\n",
    "from sklearn.model_selection import train_test_split\n",
    "\n",
    "# 生成随机的10000个20维数据作为示例数据\n",
    "data = np.random.rand(10000, 20).astype(np.float32)\n",
    "# 生成随机的目标标签（假设是回归任务）\n",
    "target = np.random.rand(10000, 1).astype(np.float32)\n",
    "\n",
    "# 划分数据集为训练集、验证集和测试集\n",
    "X_train, X_temp, y_train, y_temp = train_test_split(data, target, test_size=0.3, random_state=42)\n",
    "X_val, X_test, y_val, y_test = train_test_split(X_temp, y_temp, test_size=0.5, random_state=42)\n",
    "\n",
    "# 转换为PyTorch张量\n",
    "X_train = torch.from_numpy(X_train)\n",
    "print(X_train)\n",
    "print(X_train.shape)\n",
    "y_train = torch.from_numpy(y_train)\n",
    "X_val = torch.from_numpy(X_val)\n",
    "y_val = torch.from_numpy(y_val)\n",
    "X_test = torch.from_numpy(X_test)\n",
    "y_test = torch.from_numpy(y_test)\n",
    "\n",
    "# 定义神经网络模型\n",
    "class Net(nn.Module):\n",
    "    def __init__(self):\n",
    "        super(Net, self).__init__()\n",
    "        self.fc1 = nn.Linear(20, 64)\n",
    "        self.fc2 = nn.Linear(64, 32)\n",
    "        self.fc3 = nn.Linear(32, 1)\n",
    "    \n",
    "    def forward(self, x):\n",
    "        x = torch.relu(self.fc1(x))\n",
    "        x = torch.relu(self.fc2(x))\n",
    "        x = self.fc3(x)\n",
    "        return x\n",
    "\n",
    "# 创建模型实例\n",
    "model = Net()\n",
    "\n",
    "# 定义损失函数和优化器\n",
    "criterion = nn.MSELoss()\n",
    "optimizer = optim.Adam(model.parameters(), lr=0.001)\n",
    "\n",
    "# 训练模型\n",
    "num_epochs = 10\n",
    "batch_size = 32\n",
    "\n",
    "for epoch in range(num_epochs):\n",
    "    for i in range(0, len(X_train), batch_size):\n",
    "        inputs = X_train[i:i+batch_size]\n",
    "        labels = y_train[i:i+batch_size]\n",
    "\n",
    "        optimizer.zero_grad()\n",
    "\n",
    "        outputs = model(inputs)\n",
    "        loss = criterion(outputs, labels)\n",
    "        loss.backward()\n",
    "        optimizer.step()\n",
    "\n",
    "# 评估模型\n",
    "with torch.no_grad():\n",
    "    val_outputs = model(X_val)\n",
    "    val_loss = criterion(val_outputs, y_val)\n",
    "    print(f\"Validation Loss: {val_loss.item()}\")\n",
    "\n",
    "# 进行预测\n",
    "with torch.no_grad():\n",
    "    test_outputs = model(X_test)\n"
   ]
  }
 ],
 "metadata": {
  "kernelspec": {
   "display_name": "pytorch",
   "language": "python",
   "name": "python3"
  },
  "language_info": {
   "codemirror_mode": {
    "name": "ipython",
    "version": 3
   },
   "file_extension": ".py",
   "mimetype": "text/x-python",
   "name": "python",
   "nbconvert_exporter": "python",
   "pygments_lexer": "ipython3",
   "version": "3.9.0"
  },
  "orig_nbformat": 4,
  "vscode": {
   "interpreter": {
    "hash": "240bc028caeb8b02ff80d8aedfc61caf7a0e4db2770780d40c5b717508bae340"
   }
  }
 },
 "nbformat": 4,
 "nbformat_minor": 2
}
