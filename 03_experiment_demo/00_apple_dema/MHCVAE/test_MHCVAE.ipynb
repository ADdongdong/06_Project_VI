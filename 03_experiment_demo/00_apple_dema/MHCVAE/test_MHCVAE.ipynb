{
 "cells": [
  {
   "cell_type": "code",
   "execution_count": 1,
   "metadata": {},
   "outputs": [],
   "source": [
    "import torch\n",
    "import numpy as np\n",
    "from torch import nn\n",
    "import torch.nn.functional as F\n",
    "import matplotlib.pyplot as plt\n",
    "import torchvision\n",
    "import utils\n",
    "from torch.utils.data import DataLoader\n",
    "from mcmc_hvae import HVAE"
   ]
  },
  {
   "cell_type": "code",
   "execution_count": null,
   "metadata": {},
   "outputs": [],
   "source": [
    "def test2():\n",
    "    epochs = 100\n",
    "    batch_size = 100\n",
    "\n",
    "    recon = None\n",
    "    img = None\n",
    "\n",
    "    utils.make_dir(\"./img/cvae\")\n",
    "    utils.make_dir(\"./model_weights/cvae\")\n",
    "\n",
    "    train_data = torchvision.datasets.MNIST(\n",
    "        root='./mnist',\n",
    "        train=True,\n",
    "        transform=torchvision.transforms.ToTensor(),\n",
    "        download=True\n",
    "    )\n",
    "\n",
    "    data_loader = DataLoader(train_data, batch_size=100, shuffle=True)\n",
    "\n",
    "    cvae = HVAE(feature_size=784, class_size=10, latent_size=10)\n",
    "    #cvae = CVAE(feature_size=784, class_size=10, latent_size=10)\n",
    "\n",
    "    optimizer = torch.optim.Adam(cvae.parameters(), lr=1e-4)\n",
    "\n",
    "    for epoch in range(100):\n",
    "        train_loss = 0\n",
    "        i = 0\n",
    "        for batch_id, data in enumerate(data_loader):\n",
    "            img, label = data\n",
    "            inputs = img.reshape(img.shape[0], -1)\n",
    "            y = utils.to_one_hot(label.reshape(-1, 1), num_class=10)\n",
    "            #recon, mu, log_std = cvae(inputs, y)\n",
    "            #loss = cvae.loss_function(recon, inputs, mu, log_std)\n",
    "            recon, z,en_mu, de_mu, log_std = cvae.forward(inputs, y)\n",
    "            loss = cvae.loss_function(recon, z, inputs, en_mu, de_mu, log_std)\n",
    "            optimizer.zero_grad()\n",
    "            loss.backward()\n",
    "            optimizer.step()\n",
    "\n",
    "            train_loss += loss.item()\n",
    "            i += 1\n",
    "\n",
    "            if batch_id % 100 == 0:\n",
    "                print(\"Epoch[{}/{}], Batch[{}/{}], batch_loss:{:.6f}\".format(\n",
    "                    epoch+1, epochs, batch_id+1, len(data_loader), loss.item()))\n",
    "\n",
    "        print(\"======>epoch:{},\\t epoch_average_batch_loss:{:.6f}============\".format(\n",
    "            epoch+1, train_loss/i), \"\\n\")\n",
    "\n",
    "        # save imgs\n",
    "        if epoch % 10 == 0:\n",
    "            # 查看图像\n",
    "            imgs = utils.to_img(recon[0].detach())\n",
    "            path = \"./img/hcvae/hepoch{}.png\".format(epoch+1)\n",
    "            torchvision.utils.save_image(imgs, path, nrow=10)\n",
    "            print(\"save:\", path, \"\\n\")\n",
    "\n",
    "    torchvision.utils.save_image(img, \"./img/cvae/raw.png\", nrow=10)\n",
    "    print(\"save raw image:./img/cvae/raw/png\", \"\\n\")\n",
    "\n",
    "    # save val model\n",
    "    utils.save_model(cvae, \"./model_weights/cvae/cvae_weights.pth\")\n",
    "\n",
    "test2()"
   ]
  }
 ],
 "metadata": {
  "kernelspec": {
   "display_name": "pytorch",
   "language": "python",
   "name": "python3"
  },
  "language_info": {
   "codemirror_mode": {
    "name": "ipython",
    "version": 3
   },
   "file_extension": ".py",
   "mimetype": "text/x-python",
   "name": "python",
   "nbconvert_exporter": "python",
   "pygments_lexer": "ipython3",
   "version": "3.9.0 (default, Nov 15 2020, 08:30:55) [MSC v.1916 64 bit (AMD64)]"
  },
  "orig_nbformat": 4,
  "vscode": {
   "interpreter": {
    "hash": "240bc028caeb8b02ff80d8aedfc61caf7a0e4db2770780d40c5b717508bae340"
   }
  }
 },
 "nbformat": 4,
 "nbformat_minor": 2
}
